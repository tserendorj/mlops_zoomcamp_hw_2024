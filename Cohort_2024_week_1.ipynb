{
 "cells": [
  {
   "cell_type": "markdown",
   "id": "ef5128ff",
   "metadata": {},
   "source": [
    "# Download dataset"
   ]
  },
  {
   "cell_type": "markdown",
   "id": "8338af5b",
   "metadata": {},
   "source": [
    "!wget https://d37ci6vzurychx.cloudfront.net/trip-data/yellow_tripdata_2023-01.parquet"
   ]
  },
  {
   "cell_type": "markdown",
   "id": "894a05e7",
   "metadata": {},
   "source": [
    "!wget https://d37ci6vzurychx.cloudfront.net/trip-data/yellow_tripdata_2023-02.parquet"
   ]
  },
  {
   "cell_type": "markdown",
   "id": "92966d3e",
   "metadata": {},
   "source": [
    "# Homework 1"
   ]
  },
  {
   "cell_type": "code",
   "execution_count": 1,
   "id": "aa8715e7",
   "metadata": {},
   "outputs": [],
   "source": [
    "import pandas as pd\n",
    "import seaborn as sns\n",
    "import matplotlib.pyplot as plt\n",
    "from sklearn.feature_extraction import DictVectorizer\n",
    "from sklearn.linear_model import LinearRegression\n",
    "from sklearn.metrics import mean_squared_error\n"
   ]
  },
  {
   "cell_type": "code",
   "execution_count": 2,
   "id": "0931f250",
   "metadata": {},
   "outputs": [],
   "source": [
    "def read_dataframe_with_some_info(filename):\n",
    "    if filename.endswith('.csv'):\n",
    "        df = pd.read_csv(filename)\n",
    "\n",
    "        df.lpep_dropoff_datetime = pd.to_datetime(df.lpep_dropoff_datetime)\n",
    "        df.lpep_pickup_datetime = pd.to_datetime(df.lpep_pickup_datetime)\n",
    "    elif filename.endswith('.parquet'):\n",
    "        df = pd.read_parquet(filename)\n",
    "\n",
    "    initial_rows, initial_cols = df.shape    \n",
    "    print(\"Number of rows: \", initial_rows, \"number of columns: \", initial_cols)\n",
    "    \n",
    "    \n",
    "    df['duration'] = df.tpep_dropoff_datetime - df.tpep_pickup_datetime\n",
    "    df.duration = df.duration.apply(lambda td: td.total_seconds() / 60)\n",
    "\n",
    "    duration_std = df.duration.std()\n",
    "    print(\"standard deviation of duration: \", duration_std)\n",
    "    \n",
    "    df = df[(df.duration >= 1) & (df.duration <= 60)]\n",
    "\n",
    "    \n",
    "    filtered_rows, _ = df.shape\n",
    "    \n",
    "    remaining_rows_percentage = filtered_rows / initial_rows\n",
    "    print(\"records left percentage: \", remaining_rows_percentage)\n",
    "    \n",
    "    \n",
    "    categorical = ['PULocationID', 'DOLocationID']\n",
    "    df[categorical] = df[categorical].astype(str)\n",
    "    \n",
    "    return df"
   ]
  },
  {
   "cell_type": "code",
   "execution_count": 3,
   "id": "edf8ab19",
   "metadata": {},
   "outputs": [
    {
     "name": "stdout",
     "output_type": "stream",
     "text": [
      "Number of rows:  3066766 number of columns:  19\n",
      "standard deviation of duration:  42.594351241920904\n",
      "records left percentage:  0.9812202822125979\n"
     ]
    }
   ],
   "source": [
    "train_data = read_dataframe_with_some_info(\"yellow_tripdata_2023-01.parquet\")"
   ]
  },
  {
   "cell_type": "code",
   "execution_count": 4,
   "id": "0b92494e",
   "metadata": {},
   "outputs": [],
   "source": [
    "feature_cols = ['PULocationID', 'DOLocationID']\n",
    "target = 'duration'\n",
    "y_train = train_data[target].values"
   ]
  },
  {
   "cell_type": "code",
   "execution_count": 5,
   "id": "5dda4841",
   "metadata": {},
   "outputs": [
    {
     "name": "stdout",
     "output_type": "stream",
     "text": [
      "Dimensionality of matrix:  515\n",
      "RMSE on train:  7.649261027750482\n"
     ]
    }
   ],
   "source": [
    "train_dicts = train_data[feature_cols].to_dict(orient='records')\n",
    "dv = DictVectorizer()\n",
    "X_train = dv.fit_transform(train_dicts)\n",
    "\n",
    "print('Dimensionality of matrix: ', X_train.shape[1])\n",
    "\n",
    "lr = LinearRegression()\n",
    "lr.fit(X_train, y_train)\n",
    "y_train_pred = lr.predict(X_train)\n",
    "train_mse = mean_squared_error(y_train, y_train_pred, squared=False)\n",
    "print(\"RMSE on train: \", train_mse)\n"
   ]
  },
  {
   "cell_type": "code",
   "execution_count": 6,
   "id": "1f5332d9",
   "metadata": {},
   "outputs": [
    {
     "name": "stdout",
     "output_type": "stream",
     "text": [
      "Number of rows:  2913955 number of columns:  19\n",
      "standard deviation of duration:  42.84210176105097\n",
      "records left percentage:  0.9800944077722545\n"
     ]
    }
   ],
   "source": [
    "val_data = read_dataframe_with_some_info(\"yellow_tripdata_2023-02.parquet\")"
   ]
  },
  {
   "cell_type": "code",
   "execution_count": 7,
   "id": "ebd5fe3f",
   "metadata": {},
   "outputs": [
    {
     "name": "stdout",
     "output_type": "stream",
     "text": [
      "RMSE on val:  7.811832565322446\n"
     ]
    }
   ],
   "source": [
    "val_dicts = val_data[feature_cols].to_dict(orient='records')\n",
    "X_val = dv.transform(val_dicts)\n",
    "y_val = val_data[target].values\n",
    "y_val_pred = lr.predict(X_val)\n",
    "val_mse = mean_squared_error(y_val, y_val_pred, squared=False)\n",
    "print(\"RMSE on val: \", val_mse)"
   ]
  },
  {
   "cell_type": "code",
   "execution_count": null,
   "id": "401732a5",
   "metadata": {},
   "outputs": [],
   "source": []
  }
 ],
 "metadata": {
  "kernelspec": {
   "display_name": "Python 3 (ipykernel)",
   "language": "python",
   "name": "python3"
  },
  "language_info": {
   "codemirror_mode": {
    "name": "ipython",
    "version": 3
   },
   "file_extension": ".py",
   "mimetype": "text/x-python",
   "name": "python",
   "nbconvert_exporter": "python",
   "pygments_lexer": "ipython3",
   "version": "3.9.12"
  }
 },
 "nbformat": 4,
 "nbformat_minor": 5
}
