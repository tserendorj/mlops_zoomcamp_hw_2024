{
 "cells": [
  {
   "cell_type": "code",
   "execution_count": 11,
   "id": "082d386a-2259-429d-8427-f6cc394547e2",
   "metadata": {},
   "outputs": [
    {
     "name": "stdout",
     "output_type": "stream",
     "text": [
      "Q1: Install MLflow, What's the version that you have?\n"
     ]
    }
   ],
   "source": [
    "print(\"Q1: Install MLflow, What's the version that you have?\")"
   ]
  },
  {
   "cell_type": "code",
   "execution_count": 2,
   "id": "b0c7799a-0b0c-4bb9-840c-fde75361c355",
   "metadata": {},
   "outputs": [
    {
     "name": "stdout",
     "output_type": "stream",
     "text": [
      "mlflow, version 2.3.1\n"
     ]
    }
   ],
   "source": [
    "!mlflow --version"
   ]
  },
  {
   "cell_type": "markdown",
   "id": "e63c6786-fdd5-42f2-8731-452c4b29babc",
   "metadata": {},
   "source": [
    "!wget https://d37ci6vzurychx.cloudfront.net/trip-data/green_tripdata_2023-01.parquet\n",
    "!wget https://d37ci6vzurychx.cloudfront.net/trip-data/green_tripdata_2023-02.parquet\n",
    "!wget https://d37ci6vzurychx.cloudfront.net/trip-data/green_tripdata_2023-03.parquet"
   ]
  },
  {
   "cell_type": "code",
   "execution_count": 4,
   "id": "2c1451ee-3cd3-41fd-9acc-44a5e7e866e4",
   "metadata": {},
   "outputs": [
    {
     "data": {
      "text/plain": [
       "'/home/ml/notebooks/experiment_tracking'"
      ]
     },
     "execution_count": 4,
     "metadata": {},
     "output_type": "execute_result"
    }
   ],
   "source": [
    "pwd"
   ]
  },
  {
   "cell_type": "code",
   "execution_count": 5,
   "id": "83265b9f-f8d3-4287-b996-f41250252bac",
   "metadata": {},
   "outputs": [],
   "source": [
    "!python preprocess_data.py --raw_data_path . --dest_path ./output"
   ]
  },
  {
   "cell_type": "code",
   "execution_count": 9,
   "id": "7a5b90bc-e9b0-4af6-a356-09986cb077ef",
   "metadata": {},
   "outputs": [
    {
     "name": "stdout",
     "output_type": "stream",
     "text": [
      "Q2: How many files were saved to OUTPUT_FOLDER?: 4\n"
     ]
    }
   ],
   "source": [
    "print(\"Q2: How many files were saved to OUTPUT_FOLDER?: 4\")"
   ]
  },
  {
   "attachments": {
    "fbed9a7d-74f0-4275-a2ec-2cf976f8229b.png": {
     "image/png": "[encoded data removed]"
    }
   },
   "cell_type": "markdown",
   "id": "e5eeff23-f570-4492-9375-909e2846c1f8",
   "metadata": {},
   "source": [
    "![image.png](attachment:fbed9a7d-74f0-4275-a2ec-2cf976f8229b.png)"
   ]
  },
  {
   "cell_type": "code",
   "execution_count": 6,
   "id": "c873fc56-ecc0-46ab-bd65-57daf35df870",
   "metadata": {},
   "outputs": [
    {
     "name": "stdout",
     "output_type": "stream",
     "text": [
      "2024/05/29 13:56:15 INFO mlflow.tracking.fluent: Autologging successfully enabled for sklearn.\n",
      "2024/05/29 13:56:26 WARNING mlflow.utils.autologging_utils: MLflow autologging encountered a warning: \"/home/ml/anaconda3/envs/exp_tracking_env/lib/python3.9/site-packages/_distutils_hack/__init__.py:26: UserWarning: Setuptools is replacing distutils.\"\n"
     ]
    }
   ],
   "source": [
    "!python train.py"
   ]
  },
  {
   "cell_type": "code",
   "execution_count": 16,
   "id": "01769a0a-c573-4dc8-bab5-5b0b41281e35",
   "metadata": {},
   "outputs": [
    {
     "name": "stdout",
     "output_type": "stream",
     "text": [
      "[2024-05-29 14:30:28 +0800] [1773] [INFO] Starting gunicorn 20.1.0\n",
      "[2024-05-29 14:30:28 +0800] [1773] [INFO] Listening at: http://127.0.0.1:8080 (1773)\n",
      "[2024-05-29 14:30:28 +0800] [1773] [INFO] Using worker: sync\n",
      "[2024-05-29 14:30:28 +0800] [1774] [INFO] Booting worker with pid: 1774\n",
      "[2024-05-29 14:30:28 +0800] [1775] [INFO] Booting worker with pid: 1775\n",
      "[2024-05-29 14:30:28 +0800] [1776] [INFO] Booting worker with pid: 1776\n",
      "[2024-05-29 14:30:28 +0800] [1777] [INFO] Booting worker with pid: 1777\n",
      "[2024-05-29 14:33:13 +0800] [1773] [CRITICAL] WORKER TIMEOUT (pid:1776)\n",
      "[2024-05-29 14:33:13 +0800] [1776] [INFO] Worker exiting (pid: 1776)\n",
      "[2024-05-29 14:33:14 +0800] [1845] [INFO] Booting worker with pid: 1845\n",
      "[2024-05-29 14:34:08 +0800] [1773] [CRITICAL] WORKER TIMEOUT (pid:1774)\n",
      "[2024-05-29 14:34:08 +0800] [1774] [INFO] Worker exiting (pid: 1774)\n",
      "[2024-05-29 14:34:08 +0800] [1861] [INFO] Booting worker with pid: 1861\n",
      "[2024-05-29 14:35:07 +0800] [1773] [CRITICAL] WORKER TIMEOUT (pid:1777)\n",
      "[2024-05-29 14:35:07 +0800] [1777] [INFO] Worker exiting (pid: 1777)\n",
      "[2024-05-29 14:35:07 +0800] [1882] [INFO] Booting worker with pid: 1882\n",
      "[2024-05-29 14:36:08 +0800] [1773] [CRITICAL] WORKER TIMEOUT (pid:1861)\n",
      "[2024-05-29 14:36:08 +0800] [1861] [INFO] Worker exiting (pid: 1861)\n",
      "[2024-05-29 14:36:08 +0800] [1898] [INFO] Booting worker with pid: 1898\n",
      "[2024-05-29 14:37:07 +0800] [1773] [CRITICAL] WORKER TIMEOUT (pid:1845)\n",
      "[2024-05-29 14:37:07 +0800] [1845] [INFO] Worker exiting (pid: 1845)\n",
      "[2024-05-29 14:37:07 +0800] [1919] [INFO] Booting worker with pid: 1919\n",
      "[2024-05-29 14:38:07 +0800] [1773] [CRITICAL] WORKER TIMEOUT (pid:1919)\n",
      "[2024-05-29 14:38:07 +0800] [1919] [INFO] Worker exiting (pid: 1919)\n",
      "[2024-05-29 14:38:07 +0800] [1935] [INFO] Booting worker with pid: 1935\n",
      "[2024-05-29 14:39:07 +0800] [1773] [CRITICAL] WORKER TIMEOUT (pid:1898)\n",
      "[2024-05-29 14:39:07 +0800] [1898] [INFO] Worker exiting (pid: 1898)\n",
      "[2024-05-29 14:39:08 +0800] [1956] [INFO] Booting worker with pid: 1956\n",
      "[2024-05-29 14:40:08 +0800] [1773] [CRITICAL] WORKER TIMEOUT (pid:1882)\n",
      "[2024-05-29 14:40:08 +0800] [1882] [INFO] Worker exiting (pid: 1882)\n",
      "[2024-05-29 14:40:08 +0800] [1972] [INFO] Booting worker with pid: 1972\n",
      "[2024-05-29 14:41:07 +0800] [1773] [CRITICAL] WORKER TIMEOUT (pid:1775)\n",
      "[2024-05-29 14:41:07 +0800] [1775] [INFO] Worker exiting (pid: 1775)\n",
      "[2024-05-29 14:41:07 +0800] [1993] [INFO] Booting worker with pid: 1993\n",
      "[2024-05-29 14:42:07 +0800] [1773] [CRITICAL] WORKER TIMEOUT (pid:1935)\n",
      "[2024-05-29 14:42:07 +0800] [1935] [INFO] Worker exiting (pid: 1935)\n",
      "[2024-05-29 14:42:07 +0800] [2009] [INFO] Booting worker with pid: 2009\n",
      "[2024-05-29 14:43:08 +0800] [1773] [CRITICAL] WORKER TIMEOUT (pid:2009)\n",
      "[2024-05-29 14:43:08 +0800] [2009] [INFO] Worker exiting (pid: 2009)\n",
      "[2024-05-29 14:43:08 +0800] [2030] [INFO] Booting worker with pid: 2030\n",
      "[2024-05-29 14:44:07 +0800] [1773] [CRITICAL] WORKER TIMEOUT (pid:1993)\n",
      "[2024-05-29 14:44:07 +0800] [1993] [INFO] Worker exiting (pid: 1993)\n",
      "[2024-05-29 14:44:07 +0800] [2046] [INFO] Booting worker with pid: 2046\n",
      "[2024-05-29 14:45:07 +0800] [1773] [CRITICAL] WORKER TIMEOUT (pid:2030)\n",
      "[2024-05-29 14:45:07 +0800] [2030] [INFO] Worker exiting (pid: 2030)\n",
      "[2024-05-29 14:45:07 +0800] [2067] [INFO] Booting worker with pid: 2067\n",
      "[2024-05-29 14:46:07 +0800] [1773] [CRITICAL] WORKER TIMEOUT (pid:2067)\n",
      "[2024-05-29 14:46:07 +0800] [2067] [INFO] Worker exiting (pid: 2067)\n",
      "[2024-05-29 14:46:08 +0800] [2083] [INFO] Booting worker with pid: 2083\n",
      "[2024-05-29 14:47:14 +0800] [1773] [CRITICAL] WORKER TIMEOUT (pid:1972)\n",
      "[2024-05-29 14:47:14 +0800] [1972] [INFO] Worker exiting (pid: 1972)\n",
      "[2024-05-29 14:47:14 +0800] [2104] [INFO] Booting worker with pid: 2104\n",
      "[2024-05-29 14:48:07 +0800] [1773] [CRITICAL] WORKER TIMEOUT (pid:2083)\n",
      "[2024-05-29 14:48:07 +0800] [2083] [INFO] Worker exiting (pid: 2083)\n",
      "[2024-05-29 14:48:07 +0800] [2120] [INFO] Booting worker with pid: 2120\n",
      "[2024-05-29 14:49:07 +0800] [1773] [CRITICAL] WORKER TIMEOUT (pid:2104)\n",
      "[2024-05-29 14:49:07 +0800] [2104] [INFO] Worker exiting (pid: 2104)\n",
      "[2024-05-29 14:49:07 +0800] [2141] [INFO] Booting worker with pid: 2141\n",
      "[2024-05-29 14:50:08 +0800] [1773] [CRITICAL] WORKER TIMEOUT (pid:2046)\n",
      "[2024-05-29 14:50:08 +0800] [2046] [INFO] Worker exiting (pid: 2046)\n",
      "[2024-05-29 14:50:08 +0800] [2157] [INFO] Booting worker with pid: 2157\n",
      "[2024-05-29 14:51:08 +0800] [1773] [CRITICAL] WORKER TIMEOUT (pid:2157)\n",
      "[2024-05-29 14:51:08 +0800] [2157] [INFO] Worker exiting (pid: 2157)\n",
      "[2024-05-29 14:51:08 +0800] [2178] [INFO] Booting worker with pid: 2178\n",
      "[2024-05-29 14:52:07 +0800] [1773] [CRITICAL] WORKER TIMEOUT (pid:2178)\n",
      "[2024-05-29 14:52:07 +0800] [2178] [INFO] Worker exiting (pid: 2178)\n",
      "[2024-05-29 14:52:07 +0800] [2194] [INFO] Booting worker with pid: 2194\n",
      "[2024-05-29 14:53:07 +0800] [1773] [CRITICAL] WORKER TIMEOUT (pid:2120)\n",
      "[2024-05-29 14:53:07 +0800] [2120] [INFO] Worker exiting (pid: 2120)\n",
      "[2024-05-29 14:53:07 +0800] [2215] [INFO] Booting worker with pid: 2215\n",
      "[2024-05-29 14:54:08 +0800] [1773] [CRITICAL] WORKER TIMEOUT (pid:2194)\n",
      "[2024-05-29 14:54:08 +0800] [2194] [INFO] Worker exiting (pid: 2194)\n",
      "[2024-05-29 14:54:08 +0800] [2231] [INFO] Booting worker with pid: 2231\n",
      "[2024-05-29 14:55:07 +0800] [1773] [CRITICAL] WORKER TIMEOUT (pid:2231)\n",
      "[2024-05-29 14:55:07 +0800] [2231] [INFO] Worker exiting (pid: 2231)\n",
      "[2024-05-29 14:55:07 +0800] [2254] [INFO] Booting worker with pid: 2254\n",
      "[2024-05-29 14:56:07 +0800] [1773] [CRITICAL] WORKER TIMEOUT (pid:2254)\n",
      "[2024-05-29 14:56:07 +0800] [2254] [INFO] Worker exiting (pid: 2254)\n",
      "[2024-05-29 14:56:07 +0800] [2270] [INFO] Booting worker with pid: 2270\n",
      "[2024-05-29 14:57:07 +0800] [1773] [CRITICAL] WORKER TIMEOUT (pid:2215)\n",
      "[2024-05-29 14:57:07 +0800] [2215] [INFO] Worker exiting (pid: 2215)\n",
      "[2024-05-29 14:57:08 +0800] [2293] [INFO] Booting worker with pid: 2293\n",
      "[2024-05-29 14:58:08 +0800] [1773] [CRITICAL] WORKER TIMEOUT (pid:2270)\n",
      "[2024-05-29 14:58:08 +0800] [2270] [INFO] Worker exiting (pid: 2270)\n",
      "[2024-05-29 14:58:08 +0800] [2309] [INFO] Booting worker with pid: 2309\n",
      "[2024-05-29 14:59:07 +0800] [1773] [CRITICAL] WORKER TIMEOUT (pid:2309)\n",
      "[2024-05-29 14:59:07 +0800] [2309] [INFO] Worker exiting (pid: 2309)\n",
      "[2024-05-29 14:59:07 +0800] [2330] [INFO] Booting worker with pid: 2330\n",
      "[2024-05-29 15:00:07 +0800] [1773] [CRITICAL] WORKER TIMEOUT (pid:2330)\n",
      "[2024-05-29 15:00:07 +0800] [2330] [INFO] Worker exiting (pid: 2330)\n",
      "[2024-05-29 15:00:07 +0800] [2346] [INFO] Booting worker with pid: 2346\n",
      "[2024-05-29 15:01:08 +0800] [1773] [CRITICAL] WORKER TIMEOUT (pid:1956)\n",
      "[2024-05-29 15:01:08 +0800] [1956] [INFO] Worker exiting (pid: 1956)\n",
      "[2024-05-29 15:01:08 +0800] [2367] [INFO] Booting worker with pid: 2367\n",
      "[2024-05-29 15:02:07 +0800] [1773] [CRITICAL] WORKER TIMEOUT (pid:2346)\n",
      "[2024-05-29 15:02:07 +0800] [2346] [INFO] Worker exiting (pid: 2346)\n",
      "[2024-05-29 15:02:07 +0800] [2383] [INFO] Booting worker with pid: 2383\n",
      "[2024-05-29 15:03:07 +0800] [1773] [CRITICAL] WORKER TIMEOUT (pid:2141)\n",
      "[2024-05-29 15:03:07 +0800] [2141] [INFO] Worker exiting (pid: 2141)\n",
      "[2024-05-29 15:03:07 +0800] [2404] [INFO] Booting worker with pid: 2404\n",
      "[2024-05-29 15:04:08 +0800] [1773] [CRITICAL] WORKER TIMEOUT (pid:2383)\n",
      "[2024-05-29 15:04:08 +0800] [2383] [INFO] Worker exiting (pid: 2383)\n",
      "[2024-05-29 15:04:08 +0800] [2420] [INFO] Booting worker with pid: 2420\n",
      "[2024-05-29 15:05:07 +0800] [1773] [CRITICAL] WORKER TIMEOUT (pid:2420)\n",
      "[2024-05-29 15:05:07 +0800] [2420] [INFO] Worker exiting (pid: 2420)\n",
      "[2024-05-29 15:05:07 +0800] [2441] [INFO] Booting worker with pid: 2441\n",
      "[2024-05-29 15:06:07 +0800] [1773] [CRITICAL] WORKER TIMEOUT (pid:2367)\n",
      "[2024-05-29 15:06:07 +0800] [2367] [INFO] Worker exiting (pid: 2367)\n",
      "[2024-05-29 15:06:07 +0800] [2457] [INFO] Booting worker with pid: 2457\n",
      "[2024-05-29 15:07:07 +0800] [1773] [CRITICAL] WORKER TIMEOUT (pid:2293)\n",
      "[2024-05-29 15:07:07 +0800] [2293] [INFO] Worker exiting (pid: 2293)\n",
      "[2024-05-29 15:07:08 +0800] [2478] [INFO] Booting worker with pid: 2478\n",
      "[2024-05-29 15:08:08 +0800] [1773] [CRITICAL] WORKER TIMEOUT (pid:2441)\n",
      "[2024-05-29 15:08:08 +0800] [2441] [INFO] Worker exiting (pid: 2441)\n",
      "[2024-05-29 15:08:08 +0800] [2494] [INFO] Booting worker with pid: 2494\n",
      "[2024-05-29 15:11:07 +0800] [1773] [CRITICAL] WORKER TIMEOUT (pid:2494)\n",
      "[2024-05-29 15:11:07 +0800] [2494] [INFO] Worker exiting (pid: 2494)\n",
      "[2024-05-29 15:11:07 +0800] [2559] [INFO] Booting worker with pid: 2559\n",
      "[2024-05-29 15:12:07 +0800] [1773] [CRITICAL] WORKER TIMEOUT (pid:2404)\n",
      "[2024-05-29 15:12:07 +0800] [2404] [INFO] Worker exiting (pid: 2404)\n",
      "[2024-05-29 15:12:08 +0800] [2581] [INFO] Booting worker with pid: 2581\n",
      "[2024-05-29 15:13:08 +0800] [1773] [CRITICAL] WORKER TIMEOUT (pid:2478)\n",
      "[2024-05-29 15:13:08 +0800] [2478] [INFO] Worker exiting (pid: 2478)\n",
      "[2024-05-29 15:13:08 +0800] [2608] [INFO] Booting worker with pid: 2608\n",
      "[2024-05-29 15:14:07 +0800] [1773] [CRITICAL] WORKER TIMEOUT (pid:2608)\n",
      "[2024-05-29 15:14:07 +0800] [2608] [INFO] Worker exiting (pid: 2608)\n",
      "[2024-05-29 15:14:07 +0800] [2630] [INFO] Booting worker with pid: 2630\n",
      "[2024-05-29 15:15:07 +0800] [1773] [CRITICAL] WORKER TIMEOUT (pid:2581)\n",
      "[2024-05-29 15:15:07 +0800] [2581] [INFO] Worker exiting (pid: 2581)\n",
      "[2024-05-29 15:15:07 +0800] [2659] [INFO] Booting worker with pid: 2659\n",
      "[2024-05-29 15:16:08 +0800] [1773] [CRITICAL] WORKER TIMEOUT (pid:2659)\n",
      "[2024-05-29 15:16:08 +0800] [2659] [INFO] Worker exiting (pid: 2659)\n",
      "[2024-05-29 15:16:08 +0800] [2682] [INFO] Booting worker with pid: 2682\n",
      "[2024-05-29 15:17:08 +0800] [1773] [CRITICAL] WORKER TIMEOUT (pid:2630)\n",
      "[2024-05-29 15:17:08 +0800] [2630] [INFO] Worker exiting (pid: 2630)\n",
      "[2024-05-29 15:17:08 +0800] [2710] [INFO] Booting worker with pid: 2710\n",
      "[2024-05-29 15:18:07 +0800] [1773] [CRITICAL] WORKER TIMEOUT (pid:2559)\n",
      "[2024-05-29 15:18:07 +0800] [2559] [INFO] Worker exiting (pid: 2559)\n",
      "[2024-05-29 15:18:07 +0800] [2732] [INFO] Booting worker with pid: 2732\n",
      "[2024-05-29 15:19:07 +0800] [1773] [CRITICAL] WORKER TIMEOUT (pid:2682)\n",
      "[2024-05-29 15:19:07 +0800] [2682] [INFO] Worker exiting (pid: 2682)\n",
      "[2024-05-29 15:19:07 +0800] [2798] [INFO] Booting worker with pid: 2798\n",
      "[2024-05-29 15:20:08 +0800] [1773] [CRITICAL] WORKER TIMEOUT (pid:2457)\n",
      "[2024-05-29 15:20:08 +0800] [2457] [INFO] Worker exiting (pid: 2457)\n",
      "[2024-05-29 15:20:08 +0800] [2820] [INFO] Booting worker with pid: 2820\n",
      "2024/05/29 15:20:37 ERROR mlflow.server: Exception on /ajax-api/2.0/mlflow/model-versions/search [GET]\n",
      "Traceback (most recent call last):\n",
      "  File \"/home/ml/anaconda3/envs/exp_tracking_env/lib/python3.9/site-packages/flask/app.py\", line 2190, in wsgi_app\n",
      "    response = self.full_dispatch_request()\n",
      "  File \"/home/ml/anaconda3/envs/exp_tracking_env/lib/python3.9/site-packages/flask/app.py\", line 1486, in full_dispatch_request\n",
      "    rv = self.handle_user_exception(e)\n",
      "  File \"/home/ml/anaconda3/envs/exp_tracking_env/lib/python3.9/site-packages/flask/app.py\", line 1484, in full_dispatch_request\n",
      "    rv = self.dispatch_request()\n",
      "  File \"/home/ml/anaconda3/envs/exp_tracking_env/lib/python3.9/site-packages/flask/app.py\", line 1469, in dispatch_request\n",
      "    return self.ensure_sync(self.view_functions[rule.endpoint])(**view_args)\n",
      "  File \"/home/ml/anaconda3/envs/exp_tracking_env/lib/python3.9/site-packages/mlflow/server/handlers.py\", line 475, in wrapper\n",
      "    return func(*args, **kwargs)\n",
      "  File \"/home/ml/anaconda3/envs/exp_tracking_env/lib/python3.9/site-packages/mlflow/server/handlers.py\", line 516, in wrapper\n",
      "    return func(*args, **kwargs)\n",
      "  File \"/home/ml/anaconda3/envs/exp_tracking_env/lib/python3.9/site-packages/mlflow/server/handlers.py\", line 1545, in _search_model_versions\n",
      "    model_versions = store.search_model_versions(\n",
      "  File \"/home/ml/anaconda3/envs/exp_tracking_env/lib/python3.9/site-packages/mlflow/store/model_registry/file_store.py\", line 763, in search_model_versions\n",
      "    registered_model_paths = self._get_all_registered_model_paths()\n",
      "  File \"/home/ml/anaconda3/envs/exp_tracking_env/lib/python3.9/site-packages/mlflow/store/model_registry/file_store.py\", line 713, in _get_all_registered_model_paths\n",
      "    self._check_root_dir()\n",
      "  File \"/home/ml/anaconda3/envs/exp_tracking_env/lib/python3.9/site-packages/mlflow/store/model_registry/file_store.py\", line 110, in _check_root_dir\n",
      "    raise Exception(\"'%s' does not exist.\" % self.root_directory)\n",
      "Exception: './mlruns' does not exist.\n",
      "[2024-05-29 15:21:07 +0800] [1773] [CRITICAL] WORKER TIMEOUT (pid:2798)\n",
      "[2024-05-29 15:21:07 +0800] [2798] [INFO] Worker exiting (pid: 2798)\n",
      "[2024-05-29 15:21:07 +0800] [2859] [INFO] Booting worker with pid: 2859\n",
      "[2024-05-29 15:22:07 +0800] [1773] [CRITICAL] WORKER TIMEOUT (pid:2859)\n",
      "[2024-05-29 15:22:07 +0800] [2859] [INFO] Worker exiting (pid: 2859)\n",
      "[2024-05-29 15:22:07 +0800] [2882] [INFO] Booting worker with pid: 2882\n",
      "[2024-05-29 15:23:07 +0800] [1773] [CRITICAL] WORKER TIMEOUT (pid:2732)\n",
      "[2024-05-29 15:23:07 +0800] [2732] [INFO] Worker exiting (pid: 2732)\n",
      "[2024-05-29 15:23:08 +0800] [2909] [INFO] Booting worker with pid: 2909\n",
      "[2024-05-29 15:24:08 +0800] [1773] [CRITICAL] WORKER TIMEOUT (pid:2882)\n",
      "[2024-05-29 15:24:08 +0800] [2882] [INFO] Worker exiting (pid: 2882)\n",
      "[2024-05-29 15:24:08 +0800] [2929] [INFO] Booting worker with pid: 2929\n",
      "[2024-05-29 15:25:07 +0800] [1773] [CRITICAL] WORKER TIMEOUT (pid:2929)\n",
      "[2024-05-29 15:25:07 +0800] [2929] [INFO] Worker exiting (pid: 2929)\n",
      "[2024-05-29 15:25:07 +0800] [2972] [INFO] Booting worker with pid: 2972\n",
      "[2024-05-29 15:26:07 +0800] [1773] [CRITICAL] WORKER TIMEOUT (pid:2820)\n",
      "[2024-05-29 15:26:07 +0800] [2820] [INFO] Worker exiting (pid: 2820)\n",
      "[2024-05-29 15:26:07 +0800] [2994] [INFO] Booting worker with pid: 2994\n",
      "[2024-05-29 15:27:08 +0800] [1773] [CRITICAL] WORKER TIMEOUT (pid:2994)\n",
      "[2024-05-29 15:27:08 +0800] [2994] [INFO] Worker exiting (pid: 2994)\n",
      "[2024-05-29 15:27:08 +0800] [3021] [INFO] Booting worker with pid: 3021\n",
      "[2024-05-29 15:28:08 +0800] [1773] [CRITICAL] WORKER TIMEOUT (pid:3021)\n",
      "[2024-05-29 15:28:08 +0800] [3021] [INFO] Worker exiting (pid: 3021)\n",
      "[2024-05-29 15:28:08 +0800] [3043] [INFO] Booting worker with pid: 3043\n",
      "[2024-05-29 15:29:07 +0800] [1773] [CRITICAL] WORKER TIMEOUT (pid:2972)\n",
      "[2024-05-29 15:29:07 +0800] [2972] [INFO] Worker exiting (pid: 2972)\n",
      "[2024-05-29 15:29:07 +0800] [3071] [INFO] Booting worker with pid: 3071\n",
      "[2024-05-29 15:30:07 +0800] [1773] [CRITICAL] WORKER TIMEOUT (pid:2909)\n",
      "[2024-05-29 15:30:07 +0800] [2909] [INFO] Worker exiting (pid: 2909)\n",
      "[2024-05-29 15:30:08 +0800] [3091] [INFO] Booting worker with pid: 3091\n",
      "[2024-05-29 15:31:08 +0800] [1773] [CRITICAL] WORKER TIMEOUT (pid:2710)\n",
      "[2024-05-29 15:31:08 +0800] [2710] [INFO] Worker exiting (pid: 2710)\n",
      "[2024-05-29 15:31:08 +0800] [3194] [INFO] Booting worker with pid: 3194\n",
      "[2024-05-29 15:32:07 +0800] [1773] [CRITICAL] WORKER TIMEOUT (pid:3071)\n",
      "[2024-05-29 15:32:07 +0800] [3071] [INFO] Worker exiting (pid: 3071)\n",
      "[2024-05-29 15:32:07 +0800] [3220] [INFO] Booting worker with pid: 3220\n",
      "^C\n",
      "[2024-05-29 15:32:42 +0800] [1773] [INFO] Handling signal: int\n",
      "[2024-05-29 15:32:42 +0800] [3043] [INFO] Worker exiting (pid: 3043)\n",
      "[2024-05-29 15:32:42 +0800] [3220] [INFO] Worker exiting (pid: 3220)\n",
      "[2024-05-29 15:32:42 +0800] [3194] [INFO] Worker exiting (pid: 3194)\n",
      "[2024-05-29 15:32:42 +0800] [3091] [INFO] Worker exiting (pid: 3091)\n"
     ]
    }
   ],
   "source": [
    "!mlflow ui --port 8080"
   ]
  },
  {
   "cell_type": "code",
   "execution_count": 14,
   "id": "ca3f556f-c48f-43a7-8342-40dfae4e3383",
   "metadata": {},
   "outputs": [
    {
     "name": "stdout",
     "output_type": "stream",
     "text": [
      "Q3. Train a model with autolog. What is the value of the min_samples_split parameter: 2\n"
     ]
    }
   ],
   "source": [
    "print('Q3. Train a model with autolog. What is the value of the min_samples_split parameter:', 2)"
   ]
  },
  {
   "attachments": {
    "252846e9-2572-42d4-8a77-10d5e6c02154.png": {
     "image/png": "[encoded data removed]"
    }
   },
   "cell_type": "markdown",
   "id": "57dce3fc-54ef-41bd-849d-31922510d269",
   "metadata": {},
   "source": [
    "![image.png](attachment:252846e9-2572-42d4-8a77-10d5e6c02154.png)"
   ]
  },
  {
   "cell_type": "code",
   "execution_count": 21,
   "id": "0c908c40-790f-41e7-a7db-0e906fbd8fc9",
   "metadata": {},
   "outputs": [
    {
     "name": "stdout",
     "output_type": "stream",
     "text": [
      "Q4.  Launch the tracking server locally. In addition to backend-store-uri, what else do you need to pass to properly configure the server?:\n",
      "mlflow server --backend-store-uri sqlite:///backend.db --default-artifact-root ./artifacts\n"
     ]
    }
   ],
   "source": [
    "print('Q4.  Launch the tracking server locally. In addition to backend-store-uri, what else do you need to pass to properly configure the server?:',)\n",
    "print('mlflow server --backend-store-uri sqlite:///backend.db --default-artifact-root ./artifacts')"
   ]
  },
  {
   "cell_type": "code",
   "execution_count": 19,
   "id": "5e846637-4d8c-451e-8236-8d5ef81db5b5",
   "metadata": {},
   "outputs": [
    {
     "name": "stdout",
     "output_type": "stream",
     "text": [
      "2024/05/29 15:39:50 INFO mlflow.tracking.fluent: Experiment with name 'random-forest-hyperopt' does not exist. Creating a new experiment.\n",
      "100%|██████████| 15/15 [00:55<00:00,  3.68s/trial, best loss: 5.335419588556921]\n"
     ]
    }
   ],
   "source": [
    "!python hpo.py"
   ]
  },
  {
   "cell_type": "code",
   "execution_count": 22,
   "id": "5975b1b1-d297-428f-82dd-f25058f826cf",
   "metadata": {},
   "outputs": [
    {
     "name": "stdout",
     "output_type": "stream",
     "text": [
      "Q5. Tune model hyperparameters. What's the best validation RMSE that you got? 5.335419588556921\n"
     ]
    }
   ],
   "source": [
    "print('Q5. Tune model hyperparameters. What\\'s the best validation RMSE that you got?', 5.335419588556921)\n"
   ]
  },
  {
   "cell_type": "code",
   "execution_count": 30,
   "id": "dc337284-4075-4710-baee-1d709c700512",
   "metadata": {},
   "outputs": [
    {
     "name": "stdout",
     "output_type": "stream",
     "text": [
      "2024/05/29 16:03:28 INFO mlflow.tracking.fluent: Experiment with name 'random-forest-best-models-1' does not exist. Creating a new experiment.\n",
      "2024/05/29 16:03:33 WARNING mlflow.utils.autologging_utils: MLflow autologging encountered a warning: \"/home/ml/anaconda3/envs/exp_tracking_env/lib/python3.9/site-packages/_distutils_hack/__init__.py:26: UserWarning: Setuptools is replacing distutils.\"\n",
      "Successfully registered model 'week_2_homework'.\n",
      "2024/05/29 16:04:00 INFO mlflow.tracking._model_registry.client: Waiting up to 300 seconds for model version to finish creation. Model name: week_2_homework, version 1\n",
      "Created version '1' of model 'week_2_homework'.\n"
     ]
    }
   ],
   "source": [
    "!python register_model.py"
   ]
  },
  {
   "cell_type": "code",
   "execution_count": 32,
   "id": "4752aca2-8d03-4f6b-90cf-4a81a1f7daa7",
   "metadata": {},
   "outputs": [
    {
     "name": "stdout",
     "output_type": "stream",
     "text": [
      "Q6. Promote the best model to the model registry. What is the test RMSE of the best model? 5.567\n"
     ]
    }
   ],
   "source": [
    "print('Q6. Promote the best model to the model registry. What is the test RMSE of the best model?', 5.567)\n"
   ]
  },
  {
   "attachments": {
    "41c6ce9c-67b9-4085-b7fe-e7a346726b9c.png": {
     "image/png": "[encoded data removed]"
    }
   },
   "cell_type": "markdown",
   "id": "77c57755-0920-43da-8037-5b7a55be4eeb",
   "metadata": {},
   "source": [
    "![image.png](attachment:41c6ce9c-67b9-4085-b7fe-e7a346726b9c.png)"
   ]
  },
  {
   "cell_type": "code",
   "execution_count": null,
   "id": "5a18b844-c93f-4364-a6f2-97c2cb40e5ae",
   "metadata": {},
   "outputs": [],
   "source": []
  }
 ],
 "metadata": {
  "kernelspec": {
   "display_name": "Python 3 (ipykernel)",
   "language": "python",
   "name": "python3"
  },
  "language_info": {
   "codemirror_mode": {
    "name": "ipython",
    "version": 3
   },
   "file_extension": ".py",
   "mimetype": "text/x-python",
   "name": "python",
   "nbconvert_exporter": "python",
   "pygments_lexer": "ipython3",
   "version": "3.9.19"
  }
 },
 "nbformat": 4,
 "nbformat_minor": 5
}
